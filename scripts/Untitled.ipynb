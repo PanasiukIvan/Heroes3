{
 "cells": [
  {
   "cell_type": "code",
   "execution_count": 123,
   "metadata": {},
   "outputs": [],
   "source": [
    "PATH_TO_BACK = \"/home/fish/Изображения/back.png\"\n",
    "PATH_TO_FRONT = \"/home/fish/Изображения/front.png\"\n",
    "OUTPUT_PATH = \"/home/fish/Projects/heroes/src/assets/level1.json\"\n",
    "version = 1.0\n",
    "name = \"Level1\"\n",
    "colors_back = {\n",
    "    (255, 255, 255) : \"dirt\",\n",
    "    (0, 208, 160) : \"grass\",\n",
    "    (219, 255, 247) : \"road\",\n",
    "    (220, 170, 110) : \"mountain\"\n",
    "}\n",
    "\n",
    "colors_front = {\n",
    "    (255, 255, 255) : \"empty\",\n",
    "    (0, 0, 0) : \"castle\",\n",
    "    (220, 170, 110) : \"mine 1\",\n",
    "    (0, 208, 160) : \"mine 2\",\n",
    "    (219, 255, 247) : \"item 1\",\n",
    "    (142, 37, 10) : \"player spawner\"\n",
    "}"
   ]
  },
  {
   "cell_type": "code",
   "execution_count": 124,
   "metadata": {},
   "outputs": [],
   "source": [
    "from PIL import Image\n",
    "import numpy as np\n",
    "import json\n",
    "background_img = Image.open(PATH_TO_BACK)\n",
    "background_pix = background_img.load()\n",
    "\n",
    "front_img = Image.open(PATH_TO_FRONT)\n",
    "front_pix = front_img.load()"
   ]
  },
  {
   "cell_type": "code",
   "execution_count": 125,
   "metadata": {},
   "outputs": [],
   "source": [
    "background = []\n",
    "for x in range(background_img.size[0]):\n",
    "    for y in range(background_img.size[1]):\n",
    "        background.append(background_pix[x,y])\n",
    "\n",
    "front = []\n",
    "for x in range(front_img.size[0]):\n",
    "    for y in range(front_img.size[1]):\n",
    "        front.append(front_pix[x,y])\n"
   ]
  },
  {
   "cell_type": "code",
   "execution_count": 126,
   "metadata": {},
   "outputs": [],
   "source": [
    "color_back_enc = {}\n",
    "color_back_enc_json = {}\n",
    "color_back_id = 0\n",
    "for k,v in colors_back.items():\n",
    "    color_back_enc[k] = color_back_id\n",
    "    color_back_enc_json[v] = color_back_id\n",
    "    color_back_id += 1\n",
    "\n",
    "color_front_enc = {}\n",
    "color_front_enc_json = {}\n",
    "color_front_id = 0\n",
    "for k,v in colors_front.items():\n",
    "    color_front_enc[k] = color_front_id\n",
    "    color_front_enc_json[v] = color_front_id\n",
    "    color_front_id += 1"
   ]
  },
  {
   "cell_type": "code",
   "execution_count": 127,
   "metadata": {},
   "outputs": [],
   "source": [
    "background = [color_back_enc[x] for x in background]\n",
    "background = np.array(background).reshape(background_img.size).tolist()\n",
    "\n",
    "front = [color_front_enc[x] for x in front]\n",
    "front = np.array(front).reshape(front_img.size).tolist()\n",
    "front_min = []\n",
    "for i in range(len(front)):\n",
    "    for j in range(len(front[0])):\n",
    "        if front[i][j] != color_front_enc_json['empty']:\n",
    "            front_min.append({\"pos\":[i,j],\"type\":front[i][j]})"
   ]
  },
  {
   "cell_type": "code",
   "execution_count": 128,
   "metadata": {},
   "outputs": [],
   "source": [
    "map_json = {\n",
    "    \"version\" : version,\n",
    "    \"name\" : name,\n",
    "    \"terrain_encoding\" : color_back_enc_json,\n",
    "    \"terrain\" : background,\n",
    "    \"objects_encoding\" : color_front_enc_json,\n",
    "    \"objects\" : front_min\n",
    "}"
   ]
  },
  {
   "cell_type": "code",
   "execution_count": 129,
   "metadata": {},
   "outputs": [],
   "source": [
    "lvl = json.dumps(map_json)\n",
    "with open(OUTPUT_PATH, \"w+\") as f:\n",
    "    f.write(lvl)"
   ]
  },
  {
   "cell_type": "code",
   "execution_count": null,
   "metadata": {},
   "outputs": [],
   "source": []
  }
 ],
 "metadata": {
  "kernelspec": {
   "display_name": "Python 3",
   "language": "python",
   "name": "python3"
  },
  "language_info": {
   "codemirror_mode": {
    "name": "ipython",
    "version": 3
   },
   "file_extension": ".py",
   "mimetype": "text/x-python",
   "name": "python",
   "nbconvert_exporter": "python",
   "pygments_lexer": "ipython3",
   "version": "3.7.3"
  }
 },
 "nbformat": 4,
 "nbformat_minor": 2
}
